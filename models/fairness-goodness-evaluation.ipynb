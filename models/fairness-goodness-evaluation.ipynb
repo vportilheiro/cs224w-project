{
 "cells": [
  {
   "cell_type": "code",
   "execution_count": 1,
   "metadata": {},
   "outputs": [],
   "source": [
    "import networkx as nx\n",
    "import numpy as np\n",
    "import random\n",
    "from scipy.stats import pearsonr\n",
    "\n",
    "import fairness_goodness_computation as fg"
   ]
  },
  {
   "cell_type": "code",
   "execution_count": 2,
   "metadata": {},
   "outputs": [],
   "source": [
    "def read_graph(graph_name):\n",
    "    G = nx.DiGraph()\n",
    "    with open(graph_name,\"r\") as f:\n",
    "        for line in f:\n",
    "            l = line.strip().split(\",\")\n",
    "            G.add_edge(int(l[0]), int(l[1]), weight = float(l[2]))\n",
    "    return G"
   ]
  },
  {
   "cell_type": "code",
   "execution_count": 14,
   "metadata": {},
   "outputs": [],
   "source": [
    "def remove_random_edges(G, num_edges):\n",
    "    remove_list = random.sample(list(G.edges()), num_edges)\n",
    "    removed_weights = [G.get_edge_data(*edge)['weight'] for edge in remove_list]\n",
    "    G.remove_edges_from(remove_list)\n",
    "    return remove_list, removed_weights"
   ]
  },
  {
   "cell_type": "markdown",
   "metadata": {},
   "source": [
    "## Fairness Goodness"
   ]
  },
  {
   "cell_type": "code",
   "execution_count": 35,
   "metadata": {},
   "outputs": [],
   "source": [
    "G = read_graph(\"../db/OTCNet.csv\")\n",
    "removed_edges, removed_weights = remove_random_edges(G, int(nx.number_of_edges(G)*0.8))"
   ]
  },
  {
   "cell_type": "code",
   "execution_count": 36,
   "metadata": {},
   "outputs": [
    {
     "name": "stdout",
     "output_type": "stream",
     "text": [
      "-----------------\n",
      "Iteration number 0\n",
      "Updating goodness\n",
      "Updating fairness\n",
      "Differences in fairness score and goodness score = 143.92, 0.00\n",
      "-----------------\n",
      "Iteration number 1\n",
      "Updating goodness\n",
      "Updating fairness\n",
      "Differences in fairness score and goodness score = 16.59, 37.45\n",
      "-----------------\n",
      "Iteration number 2\n",
      "Updating goodness\n",
      "Updating fairness\n",
      "Differences in fairness score and goodness score = 1.90, 4.48\n",
      "-----------------\n",
      "Iteration number 3\n",
      "Updating goodness\n",
      "Updating fairness\n",
      "Differences in fairness score and goodness score = 0.37, 0.92\n",
      "-----------------\n",
      "Iteration number 4\n",
      "Updating goodness\n",
      "Updating fairness\n",
      "Differences in fairness score and goodness score = 0.09, 0.23\n",
      "-----------------\n",
      "Iteration number 5\n",
      "Updating goodness\n",
      "Updating fairness\n",
      "Differences in fairness score and goodness score = 0.02, 0.07\n",
      "-----------------\n",
      "Iteration number 6\n",
      "Updating goodness\n",
      "Updating fairness\n",
      "Differences in fairness score and goodness score = 0.01, 0.02\n",
      "-----------------\n",
      "Iteration number 7\n",
      "Updating goodness\n",
      "Updating fairness\n",
      "Differences in fairness score and goodness score = 0.00, 0.01\n",
      "-----------------\n",
      "Iteration number 8\n",
      "Updating goodness\n",
      "Updating fairness\n",
      "Differences in fairness score and goodness score = 0.00, 0.00\n",
      "-----------------\n",
      "Iteration number 9\n",
      "Updating goodness\n",
      "Updating fairness\n",
      "Differences in fairness score and goodness score = 0.00, 0.00\n",
      "-----------------\n",
      "Iteration number 10\n",
      "Updating goodness\n",
      "Updating fairness\n",
      "Differences in fairness score and goodness score = 0.00, 0.00\n",
      "-----------------\n",
      "Iteration number 11\n",
      "Updating goodness\n",
      "Updating fairness\n",
      "Differences in fairness score and goodness score = 0.00, 0.00\n",
      "-----------------\n",
      "Iteration number 12\n",
      "Updating goodness\n",
      "Updating fairness\n",
      "Differences in fairness score and goodness score = 0.00, 0.00\n",
      "-----------------\n",
      "Iteration number 13\n",
      "Updating goodness\n",
      "Updating fairness\n",
      "Differences in fairness score and goodness score = 0.00, 0.00\n",
      "-----------------\n",
      "Iteration number 14\n",
      "Updating goodness\n",
      "Updating fairness\n",
      "Differences in fairness score and goodness score = 0.00, 0.00\n",
      "-----------------\n",
      "Iteration number 15\n",
      "Updating goodness\n",
      "Updating fairness\n",
      "Differences in fairness score and goodness score = 0.00, 0.00\n",
      "-----------------\n",
      "Iteration number 16\n",
      "Updating goodness\n",
      "Updating fairness\n",
      "Differences in fairness score and goodness score = 0.00, 0.00\n",
      "-----------------\n",
      "Iteration number 17\n",
      "Updating goodness\n",
      "Updating fairness\n",
      "Differences in fairness score and goodness score = 0.00, 0.00\n"
     ]
    }
   ],
   "source": [
    "fairness, goodness = fg.compute_fairness_goodness(G, quiet=False)"
   ]
  },
  {
   "cell_type": "code",
   "execution_count": 37,
   "metadata": {},
   "outputs": [],
   "source": [
    "from sklearn.metrics import mean_squared_error\n",
    "predictions = np.array([fairness[u]*goodness[v] for u,v in removed_edges])\n",
    "#weights = [G.get_edge_data(*edge)['weight'] for edge in G.edges]\n",
    "rmse = np.sqrt(mean_squared_error(predictions, removed_weights))"
   ]
  },
  {
   "cell_type": "code",
   "execution_count": 38,
   "metadata": {},
   "outputs": [
    {
     "data": {
      "text/plain": [
       "0.33952401873956467"
      ]
     },
     "execution_count": 38,
     "metadata": {},
     "output_type": "execute_result"
    }
   ],
   "source": [
    "rmse"
   ]
  }
 ],
 "metadata": {
  "kernelspec": {
   "display_name": "Python 2",
   "language": "python",
   "name": "python2"
  },
  "language_info": {
   "codemirror_mode": {
    "name": "ipython",
    "version": 2
   },
   "file_extension": ".py",
   "mimetype": "text/x-python",
   "name": "python",
   "nbconvert_exporter": "python",
   "pygments_lexer": "ipython2",
   "version": "2.7.15"
  }
 },
 "nbformat": 4,
 "nbformat_minor": 2
}
