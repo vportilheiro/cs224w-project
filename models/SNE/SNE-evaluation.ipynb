{
 "cells": [
  {
   "cell_type": "code",
   "execution_count": 12,
   "metadata": {},
   "outputs": [],
   "source": [
    "import sys\n",
    "# Add the parent folder path to the sys.path list\n",
    "sys.path.append('../..')\n",
    "\n",
    "import networkx as nx\n",
    "import numpy as np\n",
    "import matplotlib.pyplot as plt\n",
    "\n",
    "from node2vec.edges import HadamardEmbedder\n",
    "from utils import read_graph, remove_random_edges"
   ]
  },
  {
   "cell_type": "markdown",
   "metadata": {},
   "source": [
    "## Create data files required by SNE"
   ]
  },
  {
   "cell_type": "code",
   "execution_count": 13,
   "metadata": {},
   "outputs": [],
   "source": [
    "alpha_data_file = '../../db/BTCAlphaNet-T.csv'\n",
    "otc_data_file = '../../db/OTCNet-T.csv'\n",
    "\n",
    "data_out_dir = './data/'"
   ]
  },
  {
   "cell_type": "code",
   "execution_count": 14,
   "metadata": {},
   "outputs": [],
   "source": [
    "def file_name_base(data_file):\n",
    "    return (data_file.split('/')[-1]).split('.')[0]\n",
    "\n",
    "def file_name_binarized(data_file):\n",
    "    return data_out_dir + file_name_base(data_file) + '-binarized.txt'\n",
    "\n",
    "def transform_data_to_binary(data_in_file, data_out_file, in_sep = ',', out_sep = '\\t'):\n",
    "    '''\n",
    "    Takes an input edgelist, where the first two columns are nodes, and the third is the\n",
    "    corresponding edge-weight (from -1 to 1), where columns are separated by in_sep\n",
    "    and writes out an edge list to the given output file path, with columns separated\n",
    "    by out_sep.\n",
    "    '''\n",
    "    with open(data_in_file, 'r') as f_in:\n",
    "        with open(data_out_file, 'w') as f_out:\n",
    "            for line in f_in:\n",
    "                u, v, weight = line.split(in_sep)\n",
    "                weight_binary = 1 if float(weight) >= 0 else 0\n",
    "                f_out.write(\"{}{}{}{}{}\\n\".format(u, out_sep, v, out_sep, weight_binary))"
   ]
  },
  {
   "cell_type": "code",
   "execution_count": 15,
   "metadata": {},
   "outputs": [],
   "source": [
    "#for data_in_file in [alpha_data_file, otc_data_file]:\n",
    "#    data_out_file = file_name_binarized(data_in_file)\n",
    "#    transform_data_to_binary(data_in_file, data_out_file)"
   ]
  },
  {
   "cell_type": "code",
   "execution_count": 16,
   "metadata": {},
   "outputs": [],
   "source": [
    "#!tail ./data/OTCNet-binarized.txt"
   ]
  },
  {
   "cell_type": "markdown",
   "metadata": {},
   "source": [
    "## Train SNE"
   ]
  },
  {
   "cell_type": "code",
   "execution_count": 122,
   "metadata": {},
   "outputs": [],
   "source": [
    "# Prepare graphs with removed test/validation edges\n",
    "G_alpha = read_graph(alpha_data_file, temporal=True)\n",
    "test_edges_alpha, test_weights_alpha = remove_random_edges(G_alpha, int(nx.number_of_edges(G_alpha)*0.2))\n",
    "val_edges_alpha, val_weights_alpha = remove_random_edges(G_alpha, int(nx.number_of_edges(G_alpha)*0.125))\n",
    "\n",
    "G_otc = read_graph(otc_data_file, temporal=True)\n",
    "test_edges_otc, test_weights_otc = remove_random_edges(G_otc, int(nx.number_of_edges(G_otc)*0.2))\n",
    "val_edges_otc, val_weights_otc = remove_random_edges(G_otc, int(nx.number_of_edges(G_otc)*0.125))"
   ]
  },
  {
   "cell_type": "code",
   "execution_count": 167,
   "metadata": {},
   "outputs": [],
   "source": [
    "removed_edges, removed_weights = remove_random_edges(G_otc, int(nx.number_of_edges(G_otc)*(3.0/5)))\n",
    "test_edges_otc.extend(removed_edges)\n",
    "test_weights_otc.extend(removed_weights)"
   ]
  },
  {
   "cell_type": "code",
   "execution_count": 168,
   "metadata": {},
   "outputs": [
    {
     "name": "stdout",
     "output_type": "stream",
     "text": [
      "../../db/OTCNet.csv\n",
      "/usr/local/Cellar/python/3.7.1/Frameworks/Python.framework/Versions/3.7/lib/python3.7/importlib/_bootstrap.py:219: RuntimeWarning: compiletime version 3.6 of module 'tensorflow.python.framework.fast_tensor_util' does not match runtime version 3.7\n",
      "  return f(*args, **kwds)\n",
      "2018-12-08 13:39:06.472025: I tensorflow/core/platform/cpu_feature_guard.cc:141] Your CPU supports instructions that this TensorFlow binary was not compiled to use: AVX2 FMA\n",
      "INFO:root:Edge number : 35592\n",
      "INFO:root:Vertex number : 5881\n",
      "WARNING:tensorflow:From /usr/local/lib/python3.7/site-packages/tensorflow/python/ops/nn_impl.py:1124: sparse_to_dense (from tensorflow.python.ops.sparse_ops) is deprecated and will be removed in a future version.\n",
      "Instructions for updating:\n",
      "Create a `tf.sparse.SparseTensor` and use `tf.sparse.to_dense` instead.\n",
      "WARNING:tensorflow:From /usr/local/lib/python3.7/site-packages/tensorflow/python/ops/nn_impl.py:1124: sparse_to_dense (from tensorflow.python.ops.sparse_ops) is deprecated and will be removed in a future version.\n",
      "Instructions for updating:\n",
      "Create a `tf.sparse.SparseTensor` and use `tf.sparse.to_dense` instead.\n",
      "INFO:root:number of data 19671\n",
      "Total batch number 393\n",
      "loss:  1.57 average loss: 1.523965 edges/sec:   28865%\n",
      "Done training\n"
     ]
    }
   ],
   "source": [
    "import walk as sne_walk\n",
    "\n",
    "G_by_data_file = {alpha_data_file: G_alpha, otc_data_file: G_otc}\n",
    "# Generate walks and train on them for each of the graphs\n",
    "for data_file in [otc_data_file]:\n",
    "    untemporal_file = data_file.split('-')[0] + '.csv'\n",
    "    print(untemporal_file)\n",
    "    walk_file = data_out_dir + file_name_base(data_file) + '.walks'\n",
    "    save_file = file_name_base(data_file) + '-model.pkl'\n",
    "    G = G_by_data_file[data_file]\n",
    "    sne_walk.write_walks_to_disk(G, f = walk_file,\n",
    "                        num_paths = 40,         # Default value based on paper = 20\n",
    "                        path_length = 80,       # Default value based on paper = 40\n",
    "                        temporal = True)\n",
    "    !python3 SNE.py --train_data $untemporal_file --walks_data $walk_file --save_path $save_file --context_size 3"
   ]
  },
  {
   "cell_type": "markdown",
   "metadata": {},
   "source": [
    "## Testing SNE"
   ]
  },
  {
   "cell_type": "code",
   "execution_count": 169,
   "metadata": {},
   "outputs": [],
   "source": [
    "from test import load_model\n",
    "from sklearn.linear_model import LogisticRegression\n",
    "from sklearn.svm import SVR"
   ]
  },
  {
   "cell_type": "code",
   "execution_count": 170,
   "metadata": {},
   "outputs": [],
   "source": [
    "emb_vertex, sign_w, emb_context, id2vertex, vertex2id, edge_source_id, edge_target_id, edge_sign = \\\n",
    "    load_model('OTCNet-T-model.pkl')"
   ]
  },
  {
   "cell_type": "code",
   "execution_count": 171,
   "metadata": {},
   "outputs": [],
   "source": [
    "G = G_otc\n",
    "test_edges = test_edges_otc\n",
    "test_weights = test_weights_otc\n",
    "\n",
    "m = nx.number_of_edges(G)\n",
    "X_train = np.zeros((m, emb_vertex[0].shape[0]))\n",
    "y_train = np.zeros((m))\n",
    "for i, (u,v) in enumerate(G.edges):\n",
    "    u_idx, v_idx = vertex2id[u], vertex2id[v]\n",
    "    edge_emb = emb_vertex[u_idx] * emb_context[v_idx]\n",
    "    X_train[i] = edge_emb\n",
    "    y_train[i] = G.get_edge_data(u,v)['weight']\n",
    "\n",
    "X_test = np.zeros((len(test_edges), emb_vertex[0].shape[0]))\n",
    "y_test = np.zeros((len(test_edges)))\n",
    "for i, (u,v) in enumerate(test_edges):\n",
    "    u_idx, v_idx = vertex2id[u], vertex2id[v]\n",
    "    edge_emb = emb_vertex[u_idx] * emb_context[v_idx]\n",
    "    X_test[i] = edge_emb\n",
    "    y_test[i] = test_weights[i]"
   ]
  },
  {
   "cell_type": "code",
   "execution_count": 172,
   "metadata": {},
   "outputs": [],
   "source": [
    "reg = SVR(gamma='scale').fit(X_train, y_train)"
   ]
  },
  {
   "cell_type": "code",
   "execution_count": 173,
   "metadata": {},
   "outputs": [
    {
     "name": "stdout",
     "output_type": "stream",
     "text": [
      "Root mean squared error: 0.34993928608959163\n"
     ]
    }
   ],
   "source": [
    "from sklearn.metrics import mean_squared_error\n",
    "# Make predictions using the testing set\n",
    "y_pred = reg.predict(X_test)\n",
    "\n",
    "# The mean squared error\n",
    "print(\"Root mean squared error: {}\".format(np.sqrt(mean_squared_error(y_test, y_pred))))"
   ]
  },
  {
   "cell_type": "code",
   "execution_count": null,
   "metadata": {},
   "outputs": [],
   "source": []
  }
 ],
 "metadata": {
  "kernelspec": {
   "display_name": "Python 3",
   "language": "python",
   "name": "python3"
  },
  "language_info": {
   "codemirror_mode": {
    "name": "ipython",
    "version": 3
   },
   "file_extension": ".py",
   "mimetype": "text/x-python",
   "name": "python",
   "nbconvert_exporter": "python",
   "pygments_lexer": "ipython3",
   "version": "3.7.1"
  }
 },
 "nbformat": 4,
 "nbformat_minor": 2
}
